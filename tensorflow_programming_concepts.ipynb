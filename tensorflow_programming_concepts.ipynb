{
 "cells": [
  {
   "cell_type": "markdown",
   "metadata": {},
   "source": [
    "# TensorFlow Programming Concepts\n",
    "\n",
    "__Learning Objective:__\n",
    "* Learn the basics of the TensorFlow programming model, focusing on the following concepts:\n",
    "    * tensors\n",
    "    * operations\n",
    "    * graphs\n",
    "    * sessions\n",
    "* Build a simple TensorFlow program that creates a default graph, and a session that runs the graph\n",
    "\n",
    "### Overview of Concepts\n",
    "TensorFlow gets its name from __tensors__, which are arrays of arbitrary dimensionality. Using TensorFlow, you can manipulate tensors with a very hihg number of dimensions. \n",
    "* A __scalar__ is a 0-d array (a 0th-order tensor). For example, \"Howdy\" or 5\n",
    "* A __vector__ is a 1-d array (a 1st-order tensor). For E.g., [2,3,4] or [5]\n",
    "* A __matrix__ is a 2-d array (a 2nd-order tensor). For E.g., [[2,3,4], [-2,1,5]]\n",
    "TensorFlow __operations__ create, destroy, and manipulate tensor. Most lines of code in typical TensorFlow are operations.\n",
    "A TensorFlow __graph__ (also known as a __computational graph__ or __dataflow graph__) a graph data structure. The ouput tensor of one operation often becomes the input tensor to a subsequent operation. \n",
    "\n",
    "Tensors can be stored in the graph as __constants__ or __variables__. Constants hold tensors whose values can't change, \n",
    "\n",
    "To define a constant, use the tf.constant operator and pass in its value:\n",
    "\n",
    "```python\n",
    " x = tf.constant(5.2)\n",
    "```\n",
    "Similarly, you can create a variable like\n",
    "```python\n",
    "y = tf.Variable([5])\n",
    "```\n",
    "Graphs must run within a TensorFlow __session__, which holds the state for the graph(s) it runs:\n",
    "```python\n",
    "with tf.Session() as sess:\n",
    "    initialization = tf.global_variables_initializer()\n",
    "    print y.eval()\n",
    "```\n",
    "### Creating a Simple TensorFlow Program\n",
    "\n",
    "#### Provide import statements\n",
    "\n"
   ]
  },
  {
   "cell_type": "code",
   "execution_count": 2,
   "metadata": {},
   "outputs": [],
   "source": [
    "import tensorflow as tf\n",
    "import matplotlib.pyplot as plt # Dataset visualization\n",
    "import numpy as np              # Low-level numerical Python library\n",
    "import pandas as pd             # Higher-level numerical Python library"
   ]
  },
  {
   "cell_type": "markdown",
   "metadata": {},
   "source": [
    "TensorFlow provides a __default graph__. However, we recommend explicitly creating your own `Graph` instead "
   ]
  },
  {
   "cell_type": "code",
   "execution_count": 5,
   "metadata": {},
   "outputs": [
    {
     "name": "stdout",
     "output_type": "stream",
     "text": [
      "17\n"
     ]
    }
   ],
   "source": [
    "# Create a graph.\n",
    "g = tf.Graph()\n",
    "\n",
    "# Establish the graph as the \"default\" graph.\n",
    "with g.as_default():\n",
    "    '''Assemble a graph cconsisting of the following three operations:\n",
    "            * Two tf.constant operations to create the operands.\n",
    "            * One tf.add operation to add the two operands\n",
    "    '''\n",
    "    x = tf.constant(8, name=\"x_const\")\n",
    "    y = tf.constant(5, name=\"y_const\")\n",
    "    z = tf.constant(4, name=\"z_const\")\n",
    "    my_sum = tf.add(tf.add(x, y), z, name=\"x_y_z_sum\")\n",
    "    \n",
    "    # Now create a session.\n",
    "    # The session will run the default graph\n",
    "    with tf.Session() as sess:\n",
    "        print(my_sum.eval())"
   ]
  },
  {
   "cell_type": "code",
   "execution_count": null,
   "metadata": {},
   "outputs": [],
   "source": []
  }
 ],
 "metadata": {
  "kernelspec": {
   "display_name": "Python 3",
   "language": "python",
   "name": "python3"
  },
  "language_info": {
   "codemirror_mode": {
    "name": "ipython",
    "version": 3
   },
   "file_extension": ".py",
   "mimetype": "text/x-python",
   "name": "python",
   "nbconvert_exporter": "python",
   "pygments_lexer": "ipython3",
   "version": "3.6.5"
  }
 },
 "nbformat": 4,
 "nbformat_minor": 2
}
